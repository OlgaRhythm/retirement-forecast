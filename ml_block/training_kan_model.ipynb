{
 "cells": [
  {
   "cell_type": "markdown",
   "metadata": {},
   "source": [
    "Импорт библиотек"
   ]
  },
  {
   "cell_type": "code",
   "execution_count": 1,
   "metadata": {},
   "outputs": [],
   "source": [
    "import pandas as pd\n",
    "import torch\n",
    "import numpy as np\n",
    "import seaborn as sns\n",
    "from kan import *\n",
    "import sklearn\n",
    "from sklearn import metrics\n",
    "from sklearn.preprocessing import MinMaxScaler\n",
    "pd.set_option('display.max_columns',None)"
   ]
  },
  {
   "cell_type": "markdown",
   "metadata": {},
   "source": [
    "Чтение датасета и преобразование фичей"
   ]
  },
  {
   "cell_type": "code",
   "execution_count": 2,
   "metadata": {},
   "outputs": [
    {
     "name": "stderr",
     "output_type": "stream",
     "text": [
      "C:\\Users\\Arthu\\AppData\\Local\\Temp\\ipykernel_14680\\48060696.py:1: DtypeWarning: Columns (18) have mixed types. Specify dtype option on import or set low_memory=False.\n",
      "  dataset=pd.read_csv('npf\\\\cntrbtrs_clnts_ops_trn.csv',encoding='ptcp154',sep=';')\n"
     ]
    },
    {
     "data": {
      "text/html": [
       "<div>\n",
       "<style scoped>\n",
       "    .dataframe tbody tr th:only-of-type {\n",
       "        vertical-align: middle;\n",
       "    }\n",
       "\n",
       "    .dataframe tbody tr th {\n",
       "        vertical-align: top;\n",
       "    }\n",
       "\n",
       "    .dataframe thead th {\n",
       "        text-align: right;\n",
       "    }\n",
       "</style>\n",
       "<table border=\"1\" class=\"dataframe\">\n",
       "  <thead>\n",
       "    <tr style=\"text-align: right;\">\n",
       "      <th></th>\n",
       "      <th>gndr</th>\n",
       "      <th>pnsn_age</th>\n",
       "      <th>north</th>\n",
       "      <th>erly_pnsn_flg</th>\n",
       "    </tr>\n",
       "  </thead>\n",
       "  <tbody>\n",
       "    <tr>\n",
       "      <th>0</th>\n",
       "      <td>0</td>\n",
       "      <td>55</td>\n",
       "      <td>0</td>\n",
       "      <td>0</td>\n",
       "    </tr>\n",
       "    <tr>\n",
       "      <th>1</th>\n",
       "      <td>1</td>\n",
       "      <td>60</td>\n",
       "      <td>0</td>\n",
       "      <td>0</td>\n",
       "    </tr>\n",
       "    <tr>\n",
       "      <th>2</th>\n",
       "      <td>1</td>\n",
       "      <td>60</td>\n",
       "      <td>0</td>\n",
       "      <td>0</td>\n",
       "    </tr>\n",
       "    <tr>\n",
       "      <th>3</th>\n",
       "      <td>0</td>\n",
       "      <td>55</td>\n",
       "      <td>0</td>\n",
       "      <td>0</td>\n",
       "    </tr>\n",
       "    <tr>\n",
       "      <th>4</th>\n",
       "      <td>1</td>\n",
       "      <td>60</td>\n",
       "      <td>0</td>\n",
       "      <td>0</td>\n",
       "    </tr>\n",
       "    <tr>\n",
       "      <th>...</th>\n",
       "      <td>...</td>\n",
       "      <td>...</td>\n",
       "      <td>...</td>\n",
       "      <td>...</td>\n",
       "    </tr>\n",
       "    <tr>\n",
       "      <th>532820</th>\n",
       "      <td>0</td>\n",
       "      <td>56</td>\n",
       "      <td>0</td>\n",
       "      <td>0</td>\n",
       "    </tr>\n",
       "    <tr>\n",
       "      <th>532821</th>\n",
       "      <td>1</td>\n",
       "      <td>60</td>\n",
       "      <td>0</td>\n",
       "      <td>0</td>\n",
       "    </tr>\n",
       "    <tr>\n",
       "      <th>532822</th>\n",
       "      <td>1</td>\n",
       "      <td>60</td>\n",
       "      <td>0</td>\n",
       "      <td>0</td>\n",
       "    </tr>\n",
       "    <tr>\n",
       "      <th>532823</th>\n",
       "      <td>0</td>\n",
       "      <td>55</td>\n",
       "      <td>0</td>\n",
       "      <td>0</td>\n",
       "    </tr>\n",
       "    <tr>\n",
       "      <th>532824</th>\n",
       "      <td>1</td>\n",
       "      <td>60</td>\n",
       "      <td>0</td>\n",
       "      <td>0</td>\n",
       "    </tr>\n",
       "  </tbody>\n",
       "</table>\n",
       "<p>532825 rows × 4 columns</p>\n",
       "</div>"
      ],
      "text/plain": [
       "        gndr  pnsn_age  north  erly_pnsn_flg\n",
       "0          0        55      0              0\n",
       "1          1        60      0              0\n",
       "2          1        60      0              0\n",
       "3          0        55      0              0\n",
       "4          1        60      0              0\n",
       "...      ...       ...    ...            ...\n",
       "532820     0        56      0              0\n",
       "532821     1        60      0              0\n",
       "532822     1        60      0              0\n",
       "532823     0        55      0              0\n",
       "532824     1        60      0              0\n",
       "\n",
       "[532825 rows x 4 columns]"
      ]
     },
     "execution_count": 2,
     "metadata": {},
     "output_type": "execute_result"
    }
   ],
   "source": [
    "# Загружаем исходные данные из CSV-файла с указанием кодировки 'ptcp154' и разделителя ';'\n",
    "dataset = pd.read_csv('data/cntrbtrs_clnts_ops_trn.csv', encoding='ptcp154', sep=';')\n",
    "\n",
    "# Создаем бинарный признак 'north' для выделения северных регионов\n",
    "# Если регион относится к списку северных, присваиваем 1, иначе 0\n",
    "dataset['north'] = dataset['rgn'].apply(lambda x: 1 if x in [\n",
    "    'САХА /ЯКУТИЯ/ РЕСП', 'ЧУКОТСКИЙ АО', 'ЯМАЛО-НЕНЕЦКИЙ АО',\n",
    "    'НЕНЕЦКИЙ АО', 'МУРМАНСКАЯ ОБЛ', 'КАМЧАТСКИЙ КРАЙ', 'ЧУКОТСКИЙ АО'\n",
    "] else 0)\n",
    "\n",
    "# Преобразуем данные о поле в бинарный формат: 1 для мужчин ('м'), 0 для женщин\n",
    "dataset['gndr'] = dataset['gndr'].apply(lambda x: 1 if x == 'м' else 0)\n",
    "\n",
    "# Выбираем необходимые признаки для модели: пол, пенсионный возраст, северный регион, флаг досрочной пенсии\n",
    "dataset = dataset[['gndr', 'pnsn_age', 'north', 'erly_pnsn_flg']]\n",
    "\n",
    "# Проверяем получившийся DataFrame\n",
    "dataset\n"
   ]
  },
  {
   "cell_type": "markdown",
   "metadata": {},
   "source": [
    "Нормализация"
   ]
  },
  {
   "cell_type": "code",
   "execution_count": 3,
   "metadata": {},
   "outputs": [],
   "source": [
    "# Нормализуем признак 'pnsn_age' в диапазон [0, 1]\n",
    "# Вычитаем минимальное значение и делим на разницу между максимальным и минимальным значениями\n",
    "dataset['pnsn_age'] = (dataset['pnsn_age'] - min(dataset['pnsn_age'])) / (max(dataset['pnsn_age']) - min(dataset['pnsn_age']))\n"
   ]
  },
  {
   "cell_type": "code",
   "execution_count": 4,
   "metadata": {},
   "outputs": [],
   "source": [
    "# Разделяем данные на обучающую и тестовую выборки с использованием train_test_split\n",
    "# Выделяем 20% данных для тестирования\n",
    "xtrain, xtest, ytrain, ytest = sklearn.model_selection.train_test_split(\n",
    "    dataset[['gndr', 'pnsn_age', 'north']], dataset['erly_pnsn_flg'], test_size=0.2\n",
    ")\n",
    "\n",
    "# Создаем словарь для передачи данных в модель KAN\n",
    "dataset_for_KAN = {}\n",
    "\n",
    "# Преобразуем обучающие признаки и метки в тензоры PyTorch\n",
    "dataset_for_KAN['train_input'] = torch.tensor(xtrain.values).float()\n",
    "dataset_for_KAN['train_label'] = torch.tensor([[i] for i in ytrain]).float()\n",
    "\n",
    "# Преобразуем тестовые признаки и метки в тензоры PyTorch\n",
    "dataset_for_KAN['test_input'] = torch.tensor(xtest.values).float()\n",
    "dataset_for_KAN['test_label'] = torch.tensor([[i] for i in ytest]).float()\n"
   ]
  },
  {
   "cell_type": "code",
   "execution_count": 8,
   "metadata": {},
   "outputs": [
    {
     "name": "stdout",
     "output_type": "stream",
     "text": [
      "checkpoint directory created: ./model\n",
      "saving model version 0.0\n"
     ]
    },
    {
     "name": "stderr",
     "output_type": "stream",
     "text": [
      "| train_loss: 2.42e-02 | test_loss: 2.43e-02 | reg: 5.16e+00 | : 100%|█| 1/1 [00:25<00:00, 25.84s/it\n"
     ]
    },
    {
     "name": "stdout",
     "output_type": "stream",
     "text": [
      "saving model version 0.1\n",
      "Accuracy: 0.9996434101252757\n",
      "f1: 0.9951056156620299\n"
     ]
    },
    {
     "data": {
      "image/png": "[encoded data removed]",
      "text/plain": [
       "<Figure size 500x200 with 5 Axes>"
      ]
     },
     "metadata": {},
     "output_type": "display_data"
    }
   ],
   "source": [
    "# Устанавливаем параметры для модели KAN\n",
    "grid = 10  # Размер сетки\n",
    "steps = 1  # Количество шагов обучения\n",
    "k = 3      # Параметр k для метода\n",
    "\n",
    "# Определяем архитектуру модели через список 'width', где\n",
    "# первый элемент - размер входного слоя, второй - выходного\n",
    "width = [3, 1]\n",
    "\n",
    "# Создаем экземпляр модели KAN с заданными параметрами\n",
    "model = KAN(width=width, grid=grid, k=k)\n",
    "\n",
    "# Обучаем модель, используя алгоритм оптимизации LBFGS и заданное количество шагов\n",
    "history = model.fit(dataset_for_KAN, opt=\"LBFGS\", steps=steps)\n",
    "\n",
    "# Делаем предсказания на тестовой выборке, округляем и переводим в numpy\n",
    "prediction = model(torch.tensor(np.array(xtest)).float()).flatten().round().detach().numpy()\n",
    "\n",
    "# Выводим метрики точности и F1 для оценки качества модели\n",
    "print(f'Accuracy: {metrics.accuracy_score(ytest, prediction)}')\n",
    "print(f'f1: {metrics.f1_score(ytest, prediction)}')\n",
    "\n",
    "# Строим график обучения (опционально, если реализован в модели KAN)\n",
    "model.plot()\n",
    "plt.show()\n"
   ]
  },
  {
   "cell_type": "code",
   "execution_count": 9,
   "metadata": {},
   "outputs": [
    {
     "name": "stdout",
     "output_type": "stream",
     "text": [
      "fixing (0,0,0) with x, r2=1.0000011920928955, c=1\n",
      "fixing (0,1,0) with x, r2=0.9863037467002869, c=1\n",
      "fixing (0,2,0) with x, r2=1.0000014305114746, c=1\n",
      "saving model version 0.2\n"
     ]
    },
    {
     "name": "stderr",
     "output_type": "stream",
     "text": [
      "| train_loss: 6.97e-02 | test_loss: 6.99e-02 | reg: 0.00e+00 | : 100%|█| 4/4 [00:38<00:00,  9.73s/it\n"
     ]
    },
    {
     "name": "stdout",
     "output_type": "stream",
     "text": [
      "saving model version 0.3\n",
      "Accuracy: 0.9997184816778492\n",
      "f1: 0.9961429673437902\n"
     ]
    },
    {
     "data": {
      "image/png": "[encoded data removed]",
      "text/plain": [
       "<Figure size 500x200 with 5 Axes>"
      ]
     },
     "metadata": {},
     "output_type": "display_data"
    }
   ],
   "source": [
    "# Определяем библиотеку символических функций для модели KAN,\n",
    "# включающую полиномы, экспоненту, логарифм, корень, гиперболический тангенс, синус и модуль\n",
    "lib = ['x', 'x^2', 'x^3', 'x^4', 'exp', 'log', 'sqrt', 'tanh', 'sin', 'abs']\n",
    "\n",
    "# Настраиваем модель KAN для автоматического выбора символических функций из заданной библиотеки\n",
    "model.auto_symbolic(lib=lib)\n",
    "\n",
    "# Повторно обучаем модель с обновленной библиотекой функций, используя алгоритм LBFGS и 4 шага обучения\n",
    "history2 = model.fit(dataset_for_KAN, opt=\"LBFGS\", steps=4)\n",
    "\n",
    "# Делаем предсказания на тестовой выборке, округляем и переводим в numpy\n",
    "prediction = model(torch.tensor(np.array(xtest)).float()).flatten().round().detach().numpy()\n",
    "\n",
    "# Выводим метрики точности и F1 для оценки качества модели после использования библиотеки функций\n",
    "print(f'Accuracy: {metrics.accuracy_score(ytest, prediction)}')\n",
    "print(f'f1: {metrics.f1_score(ytest, prediction)}')\n",
    "\n",
    "# Строим график обучения для визуализации процесса (если функция реализована в KAN)\n",
    "model.plot()\n",
    "plt.show()\n"
   ]
  },
  {
   "cell_type": "code",
   "execution_count": 10,
   "metadata": {},
   "outputs": [
    {
     "data": {
      "text/latex": [
       "$\\displaystyle - 0.95351 x_{1} + 1.87707 x_{2} + 0.01017 x_{3} - 0.01378$"
      ],
      "text/plain": [
       "-0.95351*x_1 + 1.87707*x_2 + 0.01017*x_3 - 0.01378"
      ]
     },
     "execution_count": 10,
     "metadata": {},
     "output_type": "execute_result"
    }
   ],
   "source": [
    "# Импортируем функцию округления ex_round из утилит KAN\n",
    "from kan.utils import ex_round\n",
    "\n",
    "# Получаем символическую формулу модели и округляем ее до 5 знаков после запятой\n",
    "ex_round(model.symbolic_formula()[0][0], 5)\n"
   ]
  },
  {
   "cell_type": "code",
   "execution_count": 11,
   "metadata": {},
   "outputs": [],
   "source": [
    "def predict(df):\n",
    "    # Преобразуем признак 'gndr' в бинарный формат: 1 для мужчин ('м'), 0 для женщин\n",
    "    df['gndr'] = df['gndr'].apply(lambda x: 1 if x == 'м' else 0)\n",
    "    \n",
    "    # Создаем бинарный признак 'north' для выделения северных регионов\n",
    "    df['north'] = df['rgn'].apply(lambda x: 1 if x in [\n",
    "        'САХА /ЯКУТИЯ/ РЕСП', 'ЧУКОТСКИЙ АО', 'ЯМАЛО-НЕНЕЦКИЙ АО',\n",
    "        'НЕНЕЦКИЙ АО', 'МУРМАНСКАЯ ОБЛ', 'КАМЧАТСКИЙ КРАЙ', 'ЧУКОТСКИЙ АО'\n",
    "    ] else 0)\n",
    "    \n",
    "    # Рассчитываем предсказание на основе символической формулы модели KAN\n",
    "    # Нормализуем 'pnsn_age', вычитая 55 и деля на 10 для соответствия обучающим данным\n",
    "    df['predict'] = np.round(\n",
    "        -0.95338 * df['gndr'] + \n",
    "        1.87692 * ((df['pnsn_age'] - 55) / 10) + \n",
    "        0.00818 * df['north'] - \n",
    "        0.01382\n",
    "    ).astype(int)\n",
    "    \n",
    "    # Возвращаем DataFrame с идентификатором клиента и предсказанием\n",
    "    return df[['clnt_id', 'predict']]\n"
   ]
  },
  {
   "cell_type": "code",
   "execution_count": 12,
   "metadata": {},
   "outputs": [
    {
     "name": "stderr",
     "output_type": "stream",
     "text": [
      "C:\\Users\\Arthu\\AppData\\Local\\Temp\\ipykernel_14680\\501274830.py:1: DtypeWarning: Columns (18) have mixed types. Specify dtype option on import or set low_memory=False.\n",
      "  df=pd.read_csv('npf\\\\cntrbtrs_clnts_ops_trn.csv',encoding='ptcp154',sep=';')\n"
     ]
    }
   ],
   "source": [
    "# Загружаем данные из CSV-файла с указанием кодировки 'ptcp154' и разделителя ';'\n",
    "df = pd.read_csv('data/cntrbtrs_clnts_ops_trn.csv', encoding='ptcp154', sep=';')\n"
   ]
  },
  {
   "cell_type": "code",
   "execution_count": 13,
   "metadata": {},
   "outputs": [
    {
     "data": {
      "text/html": [
       "<div>\n",
       "<style scoped>\n",
       "    .dataframe tbody tr th:only-of-type {\n",
       "        vertical-align: middle;\n",
       "    }\n",
       "\n",
       "    .dataframe tbody tr th {\n",
       "        vertical-align: top;\n",
       "    }\n",
       "\n",
       "    .dataframe thead th {\n",
       "        text-align: right;\n",
       "    }\n",
       "</style>\n",
       "<table border=\"1\" class=\"dataframe\">\n",
       "  <thead>\n",
       "    <tr style=\"text-align: right;\">\n",
       "      <th></th>\n",
       "      <th>clnt_id</th>\n",
       "      <th>predict</th>\n",
       "    </tr>\n",
       "  </thead>\n",
       "  <tbody>\n",
       "    <tr>\n",
       "      <th>0</th>\n",
       "      <td>0x03ED62E56DAEA24B96D6F1252D713286</td>\n",
       "      <td>0</td>\n",
       "    </tr>\n",
       "    <tr>\n",
       "      <th>1</th>\n",
       "      <td>0x15138C4A822F1C45A819FCBE6657B810</td>\n",
       "      <td>0</td>\n",
       "    </tr>\n",
       "    <tr>\n",
       "      <th>2</th>\n",
       "      <td>0x943D2C768A4FB38311E659ACF7E960C3</td>\n",
       "      <td>0</td>\n",
       "    </tr>\n",
       "    <tr>\n",
       "      <th>3</th>\n",
       "      <td>0x9CAE18EC4F30054C83C6C78FF70D124A</td>\n",
       "      <td>0</td>\n",
       "    </tr>\n",
       "    <tr>\n",
       "      <th>4</th>\n",
       "      <td>0xCB416F5FE5D58E41822B4E9A5209747F</td>\n",
       "      <td>0</td>\n",
       "    </tr>\n",
       "    <tr>\n",
       "      <th>...</th>\n",
       "      <td>...</td>\n",
       "      <td>...</td>\n",
       "    </tr>\n",
       "    <tr>\n",
       "      <th>532820</th>\n",
       "      <td>0x4F753559542C8D42923BA0452CB27595</td>\n",
       "      <td>0</td>\n",
       "    </tr>\n",
       "    <tr>\n",
       "      <th>532821</th>\n",
       "      <td>0x943D2C768A4FB38311E65BA1D3F4228C</td>\n",
       "      <td>0</td>\n",
       "    </tr>\n",
       "    <tr>\n",
       "      <th>532822</th>\n",
       "      <td>0x35F03CB3F4E2564C88D8C511C3E2B999</td>\n",
       "      <td>0</td>\n",
       "    </tr>\n",
       "    <tr>\n",
       "      <th>532823</th>\n",
       "      <td>0x1F9C3E2874FDCB43A6C8B5930C8C2C0E</td>\n",
       "      <td>0</td>\n",
       "    </tr>\n",
       "    <tr>\n",
       "      <th>532824</th>\n",
       "      <td>0x943D2C768A4FB38311E65E1C6B803110</td>\n",
       "      <td>0</td>\n",
       "    </tr>\n",
       "  </tbody>\n",
       "</table>\n",
       "<p>532825 rows × 2 columns</p>\n",
       "</div>"
      ],
      "text/plain": [
       "                                   clnt_id  predict\n",
       "0       0x03ED62E56DAEA24B96D6F1252D713286        0\n",
       "1       0x15138C4A822F1C45A819FCBE6657B810        0\n",
       "2       0x943D2C768A4FB38311E659ACF7E960C3        0\n",
       "3       0x9CAE18EC4F30054C83C6C78FF70D124A        0\n",
       "4       0xCB416F5FE5D58E41822B4E9A5209747F        0\n",
       "...                                    ...      ...\n",
       "532820  0x4F753559542C8D42923BA0452CB27595        0\n",
       "532821  0x943D2C768A4FB38311E65BA1D3F4228C        0\n",
       "532822  0x35F03CB3F4E2564C88D8C511C3E2B999        0\n",
       "532823  0x1F9C3E2874FDCB43A6C8B5930C8C2C0E        0\n",
       "532824  0x943D2C768A4FB38311E65E1C6B803110        0\n",
       "\n",
       "[532825 rows x 2 columns]"
      ]
     },
     "execution_count": 13,
     "metadata": {},
     "output_type": "execute_result"
    }
   ],
   "source": [
    "# Вызываем функцию predict для получения предсказаний\n",
    "predict(df)\n"
   ]
  }
 ],
 "metadata": {
  "kernelspec": {
   "display_name": "Python 3",
   "language": "python",
   "name": "python3"
  },
  "language_info": {
   "codemirror_mode": {
    "name": "ipython",
    "version": 3
   },
   "file_extension": ".py",
   "mimetype": "text/x-python",
   "name": "python",
   "nbconvert_exporter": "python",
   "pygments_lexer": "ipython3",
   "version": "3.12.1"
  }
 },
 "nbformat": 4,
 "nbformat_minor": 2
}
